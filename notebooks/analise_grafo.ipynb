{
 "cells": [
  {
   "cell_type": "code",
   "execution_count": 1,
   "id": "29735533",
   "metadata": {
    "vscode": {
     "languageId": "plaintext"
    }
   },
   "outputs": [
    {
     "name": "stderr",
     "output_type": "stream",
     "text": [
      "[02:50:09 -0300] [INFO]: NetworkX-cuGraph is unavailable: No module named 'cupy'.\n",
      "[02:50:09 -0300] [INFO]: Graph 'grafo_academico' exists.\n",
      "[02:50:09 -0300] [INFO]: Default node type set to 'alunos'\n"
     ]
    },
    {
     "name": "stdout",
     "output_type": "stream",
     "text": [
      "Nós: 31 | Arestas: 28\n"
     ]
    },
    {
     "name": "stderr",
     "output_type": "stream",
     "text": [
      "[02:50:10 -0300] [INFO]: Graph 'grafo_academico' load took 0.2844374179840088s\n"
     ]
    },
    {
     "data": {
      "application/vnd.plotly.v1+json": {
       "config": {
        "plotlyServerURL": "https://plot.ly"
       },
       "data": [
        {
         "hoverinfo": "none",
         "line": {
          "color": "grey",
          "width": 1
         },
         "mode": "lines",
         "type": "scatter",
         "x": [
          0.06014409742068623,
          0.019269798688858728,
          null,
          0.013197833431452984,
          -0.24568367955432013,
          null,
          0.013197833431452984,
          0.005325577101610685,
          null,
          0.05786425316763408,
          0.8644770922701411,
          null,
          0.05786425316763408,
          -0.03201908666750526,
          null,
          0.05786425316763408,
          0.9432010832689377,
          null,
          0.05786425316763408,
          -0.24568367955432013,
          null,
          0.05786425316763408,
          -0.08784481471783484,
          null,
          0.05786425316763408,
          0.6346117446001661,
          null,
          0.05786425316763408,
          -0.2082257394577768,
          null,
          0.05786425316763408,
          -0.2585651462439508,
          null,
          -0.2585651462439508,
          0.005325577101610685,
          null,
          0.005325577101610685,
          0.8644770922701411,
          null,
          0.005325577101610685,
          0.03597874329158743,
          null,
          0.005325577101610685,
          0.6346117446001661,
          null,
          0.005325577101610685,
          -0.06240753162896343,
          null,
          -0.17881137670555197,
          -0.24568367955432013,
          null,
          0.8644770922701411,
          -0.24568367955432013,
          null,
          0.15796077551662138,
          0.6346117446001661,
          null,
          -0.2955043783526131,
          -0.24568367955432013,
          null,
          -0.25158836100685505,
          0.6346117446001661,
          null,
          -0.0408642557431597,
          -0.24568367955432013,
          null,
          -0.005651548656097045,
          0.019269798688858728,
          null,
          -0.1541774283689823,
          0.6346117446001661,
          null,
          -0.5568245346410058,
          0.6346117446001661,
          null,
          0.019269798688858728,
          -0.24568367955432013,
          null,
          0.019269798688858728,
          -0.19661528039946424,
          null,
          0.019269798688858728,
          -0.20465475786451334,
          null
         ],
         "y": [
          -0.2952613666208544,
          -0.03955619900100865,
          null,
          -0.3271237814332031,
          0.3097674650559359,
          null,
          -0.3271237814332031,
          0.09502341101093346,
          null,
          -0.21720227856263782,
          0.3780573017583991,
          null,
          -0.21720227856263782,
          -0.09718083043022216,
          null,
          -0.21720227856263782,
          -0.05440986399169839,
          null,
          -0.21720227856263782,
          0.3097674650559359,
          null,
          -0.21720227856263782,
          -0.3045727847945161,
          null,
          -0.21720227856263782,
          0.7075521077633417,
          null,
          -0.21720227856263782,
          -0.32656861713631075,
          null,
          -0.21720227856263782,
          -0.2048870658484694,
          null,
          -0.2048870658484694,
          0.09502341101093346,
          null,
          0.09502341101093346,
          0.3780573017583991,
          null,
          0.09502341101093346,
          -0.15168637498580853,
          null,
          0.09502341101093346,
          0.7075521077633417,
          null,
          0.09502341101093346,
          0.12076686218205132,
          null,
          0.30514855063504576,
          0.3097674650559359,
          null,
          0.3780573017583991,
          0.3097674650559359,
          null,
          -0.12301352342998556,
          0.7075521077633417,
          null,
          0.27123677699723003,
          0.3097674650559359,
          null,
          -0.2719784940591115,
          0.7075521077633417,
          null,
          -0.33583752509173737,
          0.3097674650559359,
          null,
          1,
          -0.03955619900100865,
          null,
          0.06731384231622047,
          0.7075521077633417,
          null,
          -0.8767290053127959,
          0.7075521077633417,
          null,
          -0.03955619900100865,
          0.3097674650559359,
          null,
          -0.03955619900100865,
          -0.13497902431591663,
          null,
          -0.03955619900100865,
          0.19734166402451825,
          null
         ]
        },
        {
         "hoverinfo": "text",
         "marker": {
          "color": "skyblue",
          "size": 10
         },
         "mode": "markers+text",
         "text": [
          "alunos/a04",
          "cursos/c02",
          "alunos/a12",
          "alunos/a19",
          "cursos/c01",
          "cursos/c08",
          "cursos/c10",
          "alunos/a08",
          "cursos/c03",
          "alunos/a20",
          "alunos/a13",
          "cursos/c04",
          "alunos/a01",
          "alunos/a15",
          "alunos/a07",
          "alunos/4656",
          "cursos/c07",
          "alunos/a16",
          "cursos/c06",
          "alunos/a10",
          "alunos/a18",
          "alunos/a09",
          "cursos/c05",
          "cursos/c09",
          "alunos/a14",
          "alunos/a02",
          "alunos/a05",
          "alunos/a03",
          "alunos/a11",
          "alunos/a06",
          "alunos/a17"
         ],
         "textposition": "top center",
         "type": "scatter",
         "x": [
          0.15796077551662138,
          0.019269798688858728,
          0.03597874329158743,
          -0.17881137670555197,
          0.05786425316763408,
          0.159348930370508,
          0.3994194210196179,
          -0.25158836100685505,
          0.005325577101610685,
          0.9432010832689377,
          -0.5568245346410058,
          0.6346117446001661,
          0.8644770922701411,
          -0.03201908666750526,
          -0.19661528039946424,
          -0.03608554155238653,
          -0.07626054600467012,
          -0.005651548656097045,
          -0.316051540352412,
          -0.08784481471783484,
          -0.1541774283689823,
          -0.0408642557431597,
          -0.24568367955432013,
          -0.14296380222976005,
          -0.2955043783526131,
          -0.2585651462439508,
          0.013197833431452984,
          -0.20465475786451334,
          0.06014409742068623,
          -0.2082257394577768,
          -0.06240753162896343
         ],
         "y": [
          -0.12301352342998556,
          -0.03955619900100865,
          -0.15168637498580853,
          0.30514855063504576,
          -0.21720227856263782,
          -0.194549410849286,
          0.6987253736860085,
          -0.2719784940591115,
          0.09502341101093346,
          -0.05440986399169839,
          -0.8767290053127959,
          0.7075521077633417,
          0.3780573017583991,
          -0.09718083043022216,
          -0.13497902431591663,
          -0.20497385275508098,
          0.015138456306750562,
          1,
          0.21194503310594573,
          -0.3045727847945161,
          0.06731384231622047,
          -0.33583752509173737,
          0.3097674650559359,
          -0.21750684622373764,
          0.27123677699723003,
          -0.2048870658484694,
          -0.3271237814332031,
          0.19734166402451825,
          -0.2952613666208544,
          -0.32656861713631075,
          0.12076686218205132
         ]
        }
       ],
       "layout": {
        "hovermode": "closest",
        "margin": {
         "b": 20,
         "l": 5,
         "r": 5,
         "t": 40
        },
        "showlegend": false,
        "template": {
         "data": {
          "bar": [
           {
            "error_x": {
             "color": "#2a3f5f"
            },
            "error_y": {
             "color": "#2a3f5f"
            },
            "marker": {
             "line": {
              "color": "#E5ECF6",
              "width": 0.5
             },
             "pattern": {
              "fillmode": "overlay",
              "size": 10,
              "solidity": 0.2
             }
            },
            "type": "bar"
           }
          ],
          "barpolar": [
           {
            "marker": {
             "line": {
              "color": "#E5ECF6",
              "width": 0.5
             },
             "pattern": {
              "fillmode": "overlay",
              "size": 10,
              "solidity": 0.2
             }
            },
            "type": "barpolar"
           }
          ],
          "carpet": [
           {
            "aaxis": {
             "endlinecolor": "#2a3f5f",
             "gridcolor": "white",
             "linecolor": "white",
             "minorgridcolor": "white",
             "startlinecolor": "#2a3f5f"
            },
            "baxis": {
             "endlinecolor": "#2a3f5f",
             "gridcolor": "white",
             "linecolor": "white",
             "minorgridcolor": "white",
             "startlinecolor": "#2a3f5f"
            },
            "type": "carpet"
           }
          ],
          "choropleth": [
           {
            "colorbar": {
             "outlinewidth": 0,
             "ticks": ""
            },
            "type": "choropleth"
           }
          ],
          "contour": [
           {
            "colorbar": {
             "outlinewidth": 0,
             "ticks": ""
            },
            "colorscale": [
             [
              0,
              "#0d0887"
             ],
             [
              0.1111111111111111,
              "#46039f"
             ],
             [
              0.2222222222222222,
              "#7201a8"
             ],
             [
              0.3333333333333333,
              "#9c179e"
             ],
             [
              0.4444444444444444,
              "#bd3786"
             ],
             [
              0.5555555555555556,
              "#d8576b"
             ],
             [
              0.6666666666666666,
              "#ed7953"
             ],
             [
              0.7777777777777778,
              "#fb9f3a"
             ],
             [
              0.8888888888888888,
              "#fdca26"
             ],
             [
              1,
              "#f0f921"
             ]
            ],
            "type": "contour"
           }
          ],
          "contourcarpet": [
           {
            "colorbar": {
             "outlinewidth": 0,
             "ticks": ""
            },
            "type": "contourcarpet"
           }
          ],
          "heatmap": [
           {
            "colorbar": {
             "outlinewidth": 0,
             "ticks": ""
            },
            "colorscale": [
             [
              0,
              "#0d0887"
             ],
             [
              0.1111111111111111,
              "#46039f"
             ],
             [
              0.2222222222222222,
              "#7201a8"
             ],
             [
              0.3333333333333333,
              "#9c179e"
             ],
             [
              0.4444444444444444,
              "#bd3786"
             ],
             [
              0.5555555555555556,
              "#d8576b"
             ],
             [
              0.6666666666666666,
              "#ed7953"
             ],
             [
              0.7777777777777778,
              "#fb9f3a"
             ],
             [
              0.8888888888888888,
              "#fdca26"
             ],
             [
              1,
              "#f0f921"
             ]
            ],
            "type": "heatmap"
           }
          ],
          "histogram": [
           {
            "marker": {
             "pattern": {
              "fillmode": "overlay",
              "size": 10,
              "solidity": 0.2
             }
            },
            "type": "histogram"
           }
          ],
          "histogram2d": [
           {
            "colorbar": {
             "outlinewidth": 0,
             "ticks": ""
            },
            "colorscale": [
             [
              0,
              "#0d0887"
             ],
             [
              0.1111111111111111,
              "#46039f"
             ],
             [
              0.2222222222222222,
              "#7201a8"
             ],
             [
              0.3333333333333333,
              "#9c179e"
             ],
             [
              0.4444444444444444,
              "#bd3786"
             ],
             [
              0.5555555555555556,
              "#d8576b"
             ],
             [
              0.6666666666666666,
              "#ed7953"
             ],
             [
              0.7777777777777778,
              "#fb9f3a"
             ],
             [
              0.8888888888888888,
              "#fdca26"
             ],
             [
              1,
              "#f0f921"
             ]
            ],
            "type": "histogram2d"
           }
          ],
          "histogram2dcontour": [
           {
            "colorbar": {
             "outlinewidth": 0,
             "ticks": ""
            },
            "colorscale": [
             [
              0,
              "#0d0887"
             ],
             [
              0.1111111111111111,
              "#46039f"
             ],
             [
              0.2222222222222222,
              "#7201a8"
             ],
             [
              0.3333333333333333,
              "#9c179e"
             ],
             [
              0.4444444444444444,
              "#bd3786"
             ],
             [
              0.5555555555555556,
              "#d8576b"
             ],
             [
              0.6666666666666666,
              "#ed7953"
             ],
             [
              0.7777777777777778,
              "#fb9f3a"
             ],
             [
              0.8888888888888888,
              "#fdca26"
             ],
             [
              1,
              "#f0f921"
             ]
            ],
            "type": "histogram2dcontour"
           }
          ],
          "mesh3d": [
           {
            "colorbar": {
             "outlinewidth": 0,
             "ticks": ""
            },
            "type": "mesh3d"
           }
          ],
          "parcoords": [
           {
            "line": {
             "colorbar": {
              "outlinewidth": 0,
              "ticks": ""
             }
            },
            "type": "parcoords"
           }
          ],
          "pie": [
           {
            "automargin": true,
            "type": "pie"
           }
          ],
          "scatter": [
           {
            "fillpattern": {
             "fillmode": "overlay",
             "size": 10,
             "solidity": 0.2
            },
            "type": "scatter"
           }
          ],
          "scatter3d": [
           {
            "line": {
             "colorbar": {
              "outlinewidth": 0,
              "ticks": ""
             }
            },
            "marker": {
             "colorbar": {
              "outlinewidth": 0,
              "ticks": ""
             }
            },
            "type": "scatter3d"
           }
          ],
          "scattercarpet": [
           {
            "marker": {
             "colorbar": {
              "outlinewidth": 0,
              "ticks": ""
             }
            },
            "type": "scattercarpet"
           }
          ],
          "scattergeo": [
           {
            "marker": {
             "colorbar": {
              "outlinewidth": 0,
              "ticks": ""
             }
            },
            "type": "scattergeo"
           }
          ],
          "scattergl": [
           {
            "marker": {
             "colorbar": {
              "outlinewidth": 0,
              "ticks": ""
             }
            },
            "type": "scattergl"
           }
          ],
          "scattermap": [
           {
            "marker": {
             "colorbar": {
              "outlinewidth": 0,
              "ticks": ""
             }
            },
            "type": "scattermap"
           }
          ],
          "scattermapbox": [
           {
            "marker": {
             "colorbar": {
              "outlinewidth": 0,
              "ticks": ""
             }
            },
            "type": "scattermapbox"
           }
          ],
          "scatterpolar": [
           {
            "marker": {
             "colorbar": {
              "outlinewidth": 0,
              "ticks": ""
             }
            },
            "type": "scatterpolar"
           }
          ],
          "scatterpolargl": [
           {
            "marker": {
             "colorbar": {
              "outlinewidth": 0,
              "ticks": ""
             }
            },
            "type": "scatterpolargl"
           }
          ],
          "scatterternary": [
           {
            "marker": {
             "colorbar": {
              "outlinewidth": 0,
              "ticks": ""
             }
            },
            "type": "scatterternary"
           }
          ],
          "surface": [
           {
            "colorbar": {
             "outlinewidth": 0,
             "ticks": ""
            },
            "colorscale": [
             [
              0,
              "#0d0887"
             ],
             [
              0.1111111111111111,
              "#46039f"
             ],
             [
              0.2222222222222222,
              "#7201a8"
             ],
             [
              0.3333333333333333,
              "#9c179e"
             ],
             [
              0.4444444444444444,
              "#bd3786"
             ],
             [
              0.5555555555555556,
              "#d8576b"
             ],
             [
              0.6666666666666666,
              "#ed7953"
             ],
             [
              0.7777777777777778,
              "#fb9f3a"
             ],
             [
              0.8888888888888888,
              "#fdca26"
             ],
             [
              1,
              "#f0f921"
             ]
            ],
            "type": "surface"
           }
          ],
          "table": [
           {
            "cells": {
             "fill": {
              "color": "#EBF0F8"
             },
             "line": {
              "color": "white"
             }
            },
            "header": {
             "fill": {
              "color": "#C8D4E3"
             },
             "line": {
              "color": "white"
             }
            },
            "type": "table"
           }
          ]
         },
         "layout": {
          "annotationdefaults": {
           "arrowcolor": "#2a3f5f",
           "arrowhead": 0,
           "arrowwidth": 1
          },
          "autotypenumbers": "strict",
          "coloraxis": {
           "colorbar": {
            "outlinewidth": 0,
            "ticks": ""
           }
          },
          "colorscale": {
           "diverging": [
            [
             0,
             "#8e0152"
            ],
            [
             0.1,
             "#c51b7d"
            ],
            [
             0.2,
             "#de77ae"
            ],
            [
             0.3,
             "#f1b6da"
            ],
            [
             0.4,
             "#fde0ef"
            ],
            [
             0.5,
             "#f7f7f7"
            ],
            [
             0.6,
             "#e6f5d0"
            ],
            [
             0.7,
             "#b8e186"
            ],
            [
             0.8,
             "#7fbc41"
            ],
            [
             0.9,
             "#4d9221"
            ],
            [
             1,
             "#276419"
            ]
           ],
           "sequential": [
            [
             0,
             "#0d0887"
            ],
            [
             0.1111111111111111,
             "#46039f"
            ],
            [
             0.2222222222222222,
             "#7201a8"
            ],
            [
             0.3333333333333333,
             "#9c179e"
            ],
            [
             0.4444444444444444,
             "#bd3786"
            ],
            [
             0.5555555555555556,
             "#d8576b"
            ],
            [
             0.6666666666666666,
             "#ed7953"
            ],
            [
             0.7777777777777778,
             "#fb9f3a"
            ],
            [
             0.8888888888888888,
             "#fdca26"
            ],
            [
             1,
             "#f0f921"
            ]
           ],
           "sequentialminus": [
            [
             0,
             "#0d0887"
            ],
            [
             0.1111111111111111,
             "#46039f"
            ],
            [
             0.2222222222222222,
             "#7201a8"
            ],
            [
             0.3333333333333333,
             "#9c179e"
            ],
            [
             0.4444444444444444,
             "#bd3786"
            ],
            [
             0.5555555555555556,
             "#d8576b"
            ],
            [
             0.6666666666666666,
             "#ed7953"
            ],
            [
             0.7777777777777778,
             "#fb9f3a"
            ],
            [
             0.8888888888888888,
             "#fdca26"
            ],
            [
             1,
             "#f0f921"
            ]
           ]
          },
          "colorway": [
           "#636efa",
           "#EF553B",
           "#00cc96",
           "#ab63fa",
           "#FFA15A",
           "#19d3f3",
           "#FF6692",
           "#B6E880",
           "#FF97FF",
           "#FECB52"
          ],
          "font": {
           "color": "#2a3f5f"
          },
          "geo": {
           "bgcolor": "white",
           "lakecolor": "white",
           "landcolor": "#E5ECF6",
           "showlakes": true,
           "showland": true,
           "subunitcolor": "white"
          },
          "hoverlabel": {
           "align": "left"
          },
          "hovermode": "closest",
          "mapbox": {
           "style": "light"
          },
          "paper_bgcolor": "white",
          "plot_bgcolor": "#E5ECF6",
          "polar": {
           "angularaxis": {
            "gridcolor": "white",
            "linecolor": "white",
            "ticks": ""
           },
           "bgcolor": "#E5ECF6",
           "radialaxis": {
            "gridcolor": "white",
            "linecolor": "white",
            "ticks": ""
           }
          },
          "scene": {
           "xaxis": {
            "backgroundcolor": "#E5ECF6",
            "gridcolor": "white",
            "gridwidth": 2,
            "linecolor": "white",
            "showbackground": true,
            "ticks": "",
            "zerolinecolor": "white"
           },
           "yaxis": {
            "backgroundcolor": "#E5ECF6",
            "gridcolor": "white",
            "gridwidth": 2,
            "linecolor": "white",
            "showbackground": true,
            "ticks": "",
            "zerolinecolor": "white"
           },
           "zaxis": {
            "backgroundcolor": "#E5ECF6",
            "gridcolor": "white",
            "gridwidth": 2,
            "linecolor": "white",
            "showbackground": true,
            "ticks": "",
            "zerolinecolor": "white"
           }
          },
          "shapedefaults": {
           "line": {
            "color": "#2a3f5f"
           }
          },
          "ternary": {
           "aaxis": {
            "gridcolor": "white",
            "linecolor": "white",
            "ticks": ""
           },
           "baxis": {
            "gridcolor": "white",
            "linecolor": "white",
            "ticks": ""
           },
           "bgcolor": "#E5ECF6",
           "caxis": {
            "gridcolor": "white",
            "linecolor": "white",
            "ticks": ""
           }
          },
          "title": {
           "x": 0.05
          },
          "xaxis": {
           "automargin": true,
           "gridcolor": "white",
           "linecolor": "white",
           "ticks": "",
           "title": {
            "standoff": 15
           },
           "zerolinecolor": "white",
           "zerolinewidth": 2
          },
          "yaxis": {
           "automargin": true,
           "gridcolor": "white",
           "linecolor": "white",
           "ticks": "",
           "title": {
            "standoff": 15
           },
           "zerolinecolor": "white",
           "zerolinewidth": 2
          }
         }
        },
        "xaxis": {
         "showgrid": false,
         "showticklabels": false,
         "zeroline": false
        },
        "yaxis": {
         "showgrid": false,
         "showticklabels": false,
         "zeroline": false
        }
       }
      },
      "image/png": "[encoded data removed]"
     },
     "metadata": {},
     "output_type": "display_data"
    }
   ],
   "source": [
    "import os\n",
    "import networkx as nx\n",
    "import nx_arangodb as nxadb\n",
    "import plotly.graph_objects as go\n",
    "\n",
    "# Configura acesso via .env\n",
    "from dotenv import load_dotenv\n",
    "load_dotenv()\n",
    "os.environ[\"DATABASE_HOST\"] = os.getenv(\"ARANGO_HOST\")\n",
    "os.environ[\"DATABASE_USERNAME\"] = os.getenv(\"ARANGO_USER\")\n",
    "os.environ[\"DATABASE_PASSWORD\"] = os.getenv(\"ARANGO_PASS\")\n",
    "os.environ[\"DATABASE_NAME\"] = os.getenv(\"DB_NAME\")\n",
    "\n",
    "# Carrega grafo do ArangoDB\n",
    "G = nxadb.Graph(name=\"grafo_academico\")\n",
    "\n",
    "print(\"Nós:\", G.number_of_nodes(), \"| Arestas:\", G.number_of_edges())\n",
    "\n",
    "# Layout automático com spring\n",
    "pos = nx.spring_layout(G)\n",
    "\n",
    "# Traçado de arestas\n",
    "edge_x, edge_y = [], []\n",
    "for u, v in G.edges():\n",
    "    x0, y0 = pos[u]; x1, y1 = pos[v]\n",
    "    edge_x += [x0, x1, None]\n",
    "    edge_y += [y0, y1, None]\n",
    "\n",
    "edge_trace = go.Scatter(\n",
    "    x=edge_x, y=edge_y,\n",
    "    mode='lines', line=dict(width=1, color='grey'),\n",
    "    hoverinfo='none'\n",
    ")\n",
    "\n",
    "# Traçado de nós\n",
    "node_x, node_y, node_text = [], [], []\n",
    "for node in G.nodes():\n",
    "    x, y = pos[node]\n",
    "    node_x.append(x)\n",
    "    node_y.append(y)\n",
    "    node_text.append(str(node))\n",
    "\n",
    "node_trace = go.Scatter(\n",
    "    x=node_x, y=node_y,\n",
    "    mode='markers+text',\n",
    "    text=node_text, textposition='top center',\n",
    "    marker=dict(size=10, color='skyblue'),\n",
    "    hoverinfo='text'\n",
    ")\n",
    "\n",
    "fig = go.Figure(data=[edge_trace, node_trace],\n",
    "                layout=go.Layout(showlegend=False,\n",
    "                                 hovermode='closest',\n",
    "                                 margin=dict(b=20, l=5, r=5, t=40),\n",
    "                                 xaxis=dict(showgrid=False, zeroline=False, showticklabels=False),\n",
    "                                 yaxis=dict(showgrid=False, zeroline=False, showticklabels=False)))\n",
    "fig.show()"
   ]
  },
  {
   "cell_type": "code",
   "execution_count": null,
   "id": "c40dc659-e358-4473-a8cb-cc87effb5fe7",
   "metadata": {},
   "outputs": [],
   "source": []
  }
 ],
 "metadata": {
  "kernelspec": {
   "display_name": "Python 3 (ipykernel)",
   "language": "python",
   "name": "python3"
  },
  "language_info": {
   "codemirror_mode": {
    "name": "ipython",
    "version": 3
   },
   "file_extension": ".py",
   "mimetype": "text/x-python",
   "name": "python",
   "nbconvert_exporter": "python",
   "pygments_lexer": "ipython3",
   "version": "3.12.3"
  }
 },
 "nbformat": 4,
 "nbformat_minor": 5
}
