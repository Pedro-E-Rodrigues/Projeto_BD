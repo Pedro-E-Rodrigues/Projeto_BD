{
 "cells": [
  {
   "cell_type": "code",
   "execution_count": null,
   "id": "e4255793",
   "metadata": {
    "vscode": {
     "languageId": "plaintext"
    }
   },
   "outputs": [],
   "source": [
    "import os\n",
    "import networkx as nx\n",
    "import nx_arangodb as nxadb\n",
    "import plotly.graph_objects as go\n",
    "\n",
    "from dotenv import load_dotenv\n",
    "load_dotenv()\n",
    "os.environ[\"DATABASE_HOST\"] = os.getenv(\"ARANGO_HOST\")\n",
    "os.environ[\"DATABASE_USERNAME\"] = os.getenv(\"ARANGO_USER\")\n",
    "os.environ[\"DATABASE_PASSWORD\"] = os.getenv(\"ARANGO_PASS\")\n",
    "os.environ[\"DATABASE_NAME\"] = os.getenv(\"DB_NAME\")\n",
    "\n",
    "G = nxadb.Graph(name=\"grafo_academico\")\n",
    "\n",
    "print(\"Nós:\", G.number_of_nodes(), \"| Arestas:\", G.number_of_edges())\n",
    "\n",
    "pos = nx.spring_layout(G)\n",
    "\n",
    "edge_x, edge_y = [], []\n",
    "for u, v in G.edges():\n",
    "    x0, y0 = pos[u]; x1, y1 = pos[v]\n",
    "    edge_x += [x0, x1, None]\n",
    "    edge_y += [y0, y1, None]\n",
    "\n",
    "edge_trace = go.Scatter(\n",
    "    x=edge_x, y=edge_y,\n",
    "    mode='lines', line=dict(width=1, color='grey'),\n",
    "    hoverinfo='none'\n",
    ")\n",
    "\n",
    "node_x, node_y, node_text = [], [], []\n",
    "for node in G.nodes():\n",
    "    x, y = pos[node]\n",
    "    node_x.append(x)\n",
    "    node_y.append(y)\n",
    "    node_text.append(str(node))\n",
    "\n",
    "node_trace = go.Scatter(\n",
    "    x=node_x, y=node_y,\n",
    "    mode='markers+text',\n",
    "    text=node_text, textposition='top center',\n",
    "    marker=dict(size=10, color='skyblue'),\n",
    "    hoverinfo='text'\n",
    ")\n",
    "\n",
    "fig = go.Figure(data=[edge_trace, node_trace],\n",
    "                layout=go.Layout(showlegend=False,\n",
    "                                 hovermode='closest',\n",
    "                                 margin=dict(b=20, l=5, r=5, t=40),\n",
    "                                 xaxis=dict(showgrid=False, zeroline=False, showticklabels=False),\n",
    "                                 yaxis=dict(showgrid=False, zeroline=False, showticklabels=False)))\n",
    "fig.show()"
   ]
  }
 ],
 "metadata": {
  "kernelspec": {
   "display_name": "Python 3 (ipykernel)",
   "language": "python",
   "name": "python3"
  },
  "language_info": {
   "codemirror_mode": {
    "name": "ipython",
    "version": 3
   },
   "file_extension": ".py",
   "mimetype": "text/x-python",
   "name": "python",
   "nbconvert_exporter": "python",
   "pygments_lexer": "ipython3",
   "version": "3.12.3"
  }
 },
 "nbformat": 4,
 "nbformat_minor": 5
}
